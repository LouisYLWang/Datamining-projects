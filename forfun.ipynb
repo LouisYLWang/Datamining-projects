{
 "cells": [
  {
   "cell_type": "code",
   "execution_count": null,
   "metadata": {
    "collapsed": true
   },
   "outputs": [],
   "source": [
    "class Louis(homo_sapien,age=22):\n",
    "    def __init__(self, name, occupation):\n",
    "        self.name = \"Wang Yiliang \\'Louis\\'\"\n",
    "        self.occupation = \"Consultant\"\n",
    "        self.employee = \"Ernst & Young\"\n",
    "\n",
    "    def getSkills (self):\n",
    "        from numpy import *\n",
    "        from scipy.optimize import *\n",
    "        from sklearn.linear_model import *\n",
    "        from selenium import webdriver\n",
    "        import scipy.linalg as linalg\n",
    "        import pandas as *\n",
    "        import matplotlib as plt\n",
    "        import mooc as tutor\n",
    "        import life as examiner\n",
    "        \n",
    "        self.brain = tutor.courses\n",
    "        self.train = examiner.trainings\n",
    "        return [self.brain,self.train]\n",
    "        pass\n",
    "\n",
    "too_old = np.inf\n",
    "current_age = 22\n",
    "\n",
    "while not too_old:\n",
    "    Louis(current_age).getSkills()\n",
    "    current_age+=1"
   ]
  }
 ],
 "metadata": {
  "kernelspec": {
   "display_name": "Python 3",
   "language": "python",
   "name": "python3"
  },
  "language_info": {
   "codemirror_mode": {
    "name": "ipython",
    "version": 3
   },
   "file_extension": ".py",
   "mimetype": "text/x-python",
   "name": "python",
   "nbconvert_exporter": "python",
   "pygments_lexer": "ipython3",
   "version": "3.6.2"
  }
 },
 "nbformat": 4,
 "nbformat_minor": 2
}
