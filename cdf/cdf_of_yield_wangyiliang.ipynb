{
 "cells": [
  {
   "cell_type": "code",
   "execution_count": 1,
   "metadata": {
    "collapsed": true
   },
   "outputs": [],
   "source": [
    "import pandas as pd\n",
    "import nass\n",
    "import matplotlib.pyplot as plt\n",
    "import numpy as np\n",
    "%matplotlib inline\n",
    "api = nass.NassApi('7B787C2D-2F3A-35F4-BEAC-CFBDA3E3ABC5 ')"
   ]
  },
  {
   "cell_type": "code",
   "execution_count": 6,
   "metadata": {
    "collapsed": false
   },
   "outputs": [
    {
     "data": {
      "text/plain": [
       "<nass.query.Query at 0xaec4278>"
      ]
     },
     "execution_count": 6,
     "metadata": {},
     "output_type": "execute_result"
    }
   ],
   "source": [
    "q = api.query()\n",
    "q.filter('commodity_desc','CORN').filter(\"statisticcat_desc\",\"YIELD\")\n",
    "q.filter(\"state_alpha\",\"CO\")\n",
    "q.filter(\"unit_desc\",\"BU / ACRE\")\n",
    "q.filter('domain_desc','TOTAL')\n",
    "q.filter('domaincat_desc','NOT SPECIFIED')\n",
    "q.filter('agg_level_desc','STATE')\n",
    "q.filter('reference_period_desc','YEAR')\n",
    "q.filter('prodn_practice_desc','ALL PRODUCTION PRACTICES')"
   ]
  },
  {
   "cell_type": "code",
   "execution_count": 7,
   "metadata": {
    "collapsed": false
   },
   "outputs": [],
   "source": [
    "data_corn = q.execute()"
   ]
  },
  {
   "cell_type": "code",
   "execution_count": 8,
   "metadata": {
    "collapsed": false
   },
   "outputs": [],
   "source": [
    "corn_yielddata = pd.DataFrame(data = data_corn)\n",
    "corn_value = map(float,list(corn_yielddata['Value']))\n",
    "corn_value = [0]+ corn_value\n",
    "corn_arr = np.asarray(corn_value)\n",
    "corn_arr.sort(axis=0)"
   ]
  },
  {
   "cell_type": "code",
   "execution_count": 13,
   "metadata": {
    "collapsed": false
   },
   "outputs": [
    {
     "data": {
      "text/plain": [
       "139"
      ]
     },
     "execution_count": 13,
     "metadata": {},
     "output_type": "execute_result"
    }
   ],
   "source": [
    "len(corn_arr)"
   ]
  },
  {
   "cell_type": "code",
   "execution_count": 9,
   "metadata": {
    "collapsed": false
   },
   "outputs": [],
   "source": [
    "\n",
    "q = api.query()\n",
    "q.filter('commodity_desc','WHEAT')\n",
    "q.filter(\"statisticcat_desc\",\"YIELD\")\n",
    "q.filter(\"state_alpha\",\"CO\")\n",
    "q.filter(\"unit_desc\",\"BU / ACRE\")\n",
    "q.filter('domain_desc','TOTAL')\n",
    "q.filter('domaincat_desc','NOT SPECIFIED')\n",
    "q.filter('agg_level_desc','STATE')\n",
    "q.filter('reference_period_desc','YEAR')\n",
    "q.filter('prodn_practice_desc','ALL PRODUCTION PRACTICES')\n",
    "q.filter('class_desc','ALL CLASSES')\n",
    "\n",
    "data_wheat = q.execute()"
   ]
  },
  {
   "cell_type": "code",
   "execution_count": 35,
   "metadata": {
    "collapsed": true
   },
   "outputs": [],
   "source": [
    "wheat_yielddata = pd.DataFrame(data = data_wheat)\n",
    "wheat_value = map(float,list(wheat_yielddata['Value']))\n",
    "wheat_value.append(160)\n",
    "wheat_arr = np.asarray(wheat_value)\n",
    "wheat_arr = wheat_arr[10:149]\n",
    "wheat_arr.sort(axis=0)"
   ]
  },
  {
   "cell_type": "code",
   "execution_count": 36,
   "metadata": {
    "collapsed": false
   },
   "outputs": [
    {
     "data": {
      "text/plain": [
       "139"
      ]
     },
     "execution_count": 36,
     "metadata": {},
     "output_type": "execute_result"
    }
   ],
   "source": [
    "len(wheat_arr)"
   ]
  },
  {
   "cell_type": "code",
   "execution_count": 44,
   "metadata": {
    "collapsed": false
   },
   "outputs": [
    {
     "data": {
      "text/plain": [
       "<matplotlib.legend.Legend at 0xd534198>"
      ]
     },
     "execution_count": 44,
     "metadata": {},
     "output_type": "execute_result"
    },
    {
     "data": {
      "image/png": "[encoded data removed]",
      "text/plain": [
       "<matplotlib.figure.Figure at 0xb13ca20>"
      ]
     },
     "metadata": {},
     "output_type": "display_data"
    }
   ],
   "source": [
    "plt.plot(corn_arr, np.linspace(0, 1, len(corn_arr),endpoint=False), label='Corn yield CDF')\n",
    "plt.plot(wheat_arr, np.linspace(0, 1, len(wheat_arr), endpoint=False), label='Wheat yield CDF')\n",
    "plt.legend(bbox_to_anchor=(1, 0.0, 0.5, 0), loc=8, ncol=1, borderaxespad=5,shadow=\"true\")"
   ]
  },
  {
   "cell_type": "code",
   "execution_count": 45,
   "metadata": {
    "collapsed": true
   },
   "outputs": [],
   "source": [
    "from scipy.integrate import simps\n",
    "from numpy import trapz"
   ]
  },
  {
   "cell_type": "code",
   "execution_count": 47,
   "metadata": {
    "collapsed": false
   },
   "outputs": [
    {
     "name": "stdout",
     "output_type": "stream",
     "text": [
      "area_corn_trapz = 41927.5\n",
      "area_corn_simps = 41926.3333333\n",
      "area_wheat_trapz = 15178.5\n",
      "area_wheat_simps = 15085.6666667\n"
     ]
    }
   ],
   "source": [
    "area_corn_trapz = trapz(corn_arr,dx=5)\n",
    "area_corn_simps= simps(corn_arr,dx=5)\n",
    "area_wheat_trapz = trapz(wheat_arr,dx=5)\n",
    "area_wheat_simps= simps(wheat_arr,dx=5)\n",
    "\n",
    "print \"area_corn_trapz = \" + str(area_corn_trapz)\n",
    "print \"area_corn_simps = \"+ str (area_corn_simps)\n",
    "print \"area_wheat_trapz = \" + str (area_wheat_trapz)\n",
    "print \"area_wheat_simps = \" + str (area_wheat_simps)"
   ]
  }
 ],
 "metadata": {
  "kernelspec": {
   "display_name": "Python 2",
   "language": "python",
   "name": "python2"
  },
  "language_info": {
   "codemirror_mode": {
    "name": "ipython",
    "version": 2
   },
   "file_extension": ".py",
   "mimetype": "text/x-python",
   "name": "python",
   "nbconvert_exporter": "python",
   "pygments_lexer": "ipython2",
   "version": "2.7.13"
  }
 },
 "nbformat": 4,
 "nbformat_minor": 2
}
